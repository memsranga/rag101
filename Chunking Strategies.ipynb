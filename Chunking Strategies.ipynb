{
 "cells": [
  {
   "cell_type": "markdown",
   "id": "d9ad9a6f-f6a6-432c-89cb-c5c85cc79c85",
   "metadata": {},
   "source": [
    "## Fixed Window Chunking"
   ]
  },
  {
   "cell_type": "code",
   "execution_count": 1,
   "id": "53464e1c-fb5d-4852-9d6a-25f623ae9c89",
   "metadata": {},
   "outputs": [],
   "source": [
    "from typing import List"
   ]
  },
  {
   "cell_type": "code",
   "execution_count": 2,
   "id": "df1a6cd8-8c6a-488c-b11c-9a7e27969220",
   "metadata": {},
   "outputs": [],
   "source": [
    "def fixed_window_splitter(text: str, chunk_size: int = 4000) -> List[str]:\n",
    "    pass"
   ]
  },
  {
   "cell_type": "code",
   "execution_count": 3,
   "id": "e17f2022-0f03-41e6-acc2-9bbcc8d48819",
   "metadata": {},
   "outputs": [],
   "source": [
    "def fixed_window_with_overlap_splitter(text: str, chunk_size: int = 4000, chunk_overlap: int = 10) -> List[str]:\n",
    "    pass"
   ]
  },
  {
   "cell_type": "code",
   "execution_count": 4,
   "id": "a08c190d-9812-4c0f-ad42-ff57788c03e0",
   "metadata": {},
   "outputs": [],
   "source": [
    "def recursive_character_splitter(text: str) -> List[str]:\n",
    "    pass"
   ]
  },
  {
   "cell_type": "code",
   "execution_count": 5,
   "id": "6607819a-84f7-4397-b2e3-9e780bddc524",
   "metadata": {},
   "outputs": [],
   "source": [
    "def semantic_splitter(text: str) -> List[str]:\n",
    "    pass"
   ]
  },
  {
   "cell_type": "code",
   "execution_count": 6,
   "id": "fb957f34-937c-4f8c-a849-a0b14836f60d",
   "metadata": {},
   "outputs": [],
   "source": [
    "def agentic_splitter(text: str) -> List[str]:\n",
    "    pass"
   ]
  },
  {
   "cell_type": "code",
   "execution_count": null,
   "id": "59cc7679-56dd-439f-9c4b-85f6ddc7f295",
   "metadata": {},
   "outputs": [],
   "source": []
  }
 ],
 "metadata": {
  "kernelspec": {
   "display_name": "Python 3 (ipykernel)",
   "language": "python",
   "name": "python3"
  },
  "language_info": {
   "codemirror_mode": {
    "name": "ipython",
    "version": 3
   },
   "file_extension": ".py",
   "mimetype": "text/x-python",
   "name": "python",
   "nbconvert_exporter": "python",
   "pygments_lexer": "ipython3",
   "version": "3.11.9"
  }
 },
 "nbformat": 4,
 "nbformat_minor": 5
}
