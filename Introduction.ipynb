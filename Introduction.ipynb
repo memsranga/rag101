{
 "cells": [
  {
   "cell_type": "markdown",
   "id": "06290271-aae7-401c-b3b9-7f5a20edbfd0",
   "metadata": {},
   "source": [
    "### Initialize an LLM"
   ]
  },
  {
   "cell_type": "code",
   "execution_count": null,
   "id": "ee562098-92a7-4e75-8c3b-1417a80c3138",
   "metadata": {},
   "outputs": [],
   "source": [
    "# Import the AzureChatOpenAI class from the langchain_openai module\n",
    "from langchain_openai import AzureChatOpenAI\n",
    "\n",
    "# Import the load_dotenv and find_dotenv functions from the dotenv module\n",
    "# These functions are used to load environment variables from a .env file\n",
    "from dotenv import load_dotenv, find_dotenv\n",
    "\n",
    "# Load the environment variables from the .env file, if it exists\n",
    "load_dotenv(find_dotenv())\n",
    "\n",
    "# Create an instance of the AzureChatOpenAI class,\n",
    "# which represents a Large Language Model (LLM) from Azure OpenAI service.\n",
    "# The model used is \"gpt-4o\" and it's using the \n",
    "# preview version of the API from March 2023.\n",
    "# The 'verbose' parameter enables detailed logging for debugging.\n",
    "# The 'temperature' parameter is set to 1, which controls the \n",
    "# randomness of the model's outputs (higher values mean more randomness).\n",
    "llm = AzureChatOpenAI(model=\"gpt-4o\",\n",
    "                      api_version=\"2023-03-15-preview\",\n",
    "                      verbose=True,\n",
    "                      temperature=0)\n",
    "\n",
    "# Invoke the LLM with a prompt of \"Hi\" to generate a response.\n",
    "llm.invoke(\"Hi\")"
   ]
  },
  {
   "cell_type": "code",
   "execution_count": null,
   "id": "8265983a-9d20-43dd-92fc-3016ff54b5e9",
   "metadata": {},
   "outputs": [],
   "source": []
  },
  {
   "cell_type": "markdown",
   "id": "326e08d9-d9ee-44e1-a998-d27514e0a85e",
   "metadata": {},
   "source": [
    "### Asking deterministic questions"
   ]
  },
  {
   "cell_type": "code",
   "execution_count": null,
   "id": "46d1901e-0455-414c-9ca6-b745049c92ca",
   "metadata": {},
   "outputs": [],
   "source": [
    "llm.invoke(\"How many medals did USA win in the most recent Olympics?\")"
   ]
  },
  {
   "cell_type": "code",
   "execution_count": null,
   "id": "20784af7-8b32-47e1-bf27-66ad1d5a27c8",
   "metadata": {},
   "outputs": [],
   "source": [
    "llm.invoke(\"Who is Shanmukha Ranganath?\")"
   ]
  },
  {
   "cell_type": "code",
   "execution_count": null,
   "id": "a31bb2b0-f9a1-48c9-8d21-dc16cda05b15",
   "metadata": {},
   "outputs": [],
   "source": [
    "llm.invoke(\"How many 'm's are there in the word Weather\")"
   ]
  },
  {
   "cell_type": "code",
   "execution_count": null,
   "id": "4d4c5541-9b5d-4481-aa6b-8f09dd66de10",
   "metadata": {},
   "outputs": [],
   "source": [
    "llm.invoke(\"\"\"\n",
    "Tell me something about the NBA Commissioner.\n",
    "\"\"\")"
   ]
  },
  {
   "cell_type": "code",
   "execution_count": null,
   "id": "d132792e-914f-4cb1-8807-8c2f8dc3da8e",
   "metadata": {},
   "outputs": [],
   "source": []
  },
  {
   "cell_type": "markdown",
   "id": "b176f632-fab5-48f4-91d2-8f11b116c834",
   "metadata": {},
   "source": [
    "### Sending Context along with question to enhance generation"
   ]
  },
  {
   "cell_type": "code",
   "execution_count": null,
   "id": "0ded59f8-45df-4139-bb0d-b52a52352e15",
   "metadata": {},
   "outputs": [],
   "source": [
    "llm.invoke(\"\"\"\n",
    "The United States of America (USA), represented by the United States Olympic & Paralympic Committee (USOPC), \n",
    "competed at the 2024 Summer Olympics in Paris from July 26 to August 11, 2024. U.S. athletes have appeared in every \n",
    "Summer Olympic Games of the modern era, except for the 1980 edition in Moscow, when America led a sixty-six-nation \n",
    "boycott in protest of the Soviet invasion of Afghanistan. As Los Angeles is hosting the 2028 Summer Olympics, \n",
    "the United States marched penultimately before the homebound French team entered Place du Trocadéro during the \n",
    "parade of nations segment of the opening ceremony. Additionally, an American segment featuring H.E.R. and Tom Cruise from Paris, \n",
    "and the Red Hot Chili Peppers, Billie Eilish, Snoop Dogg, and Dr. Dre from Long Beach, was performed during the closing ceremony.\n",
    "The opening ceremony flag-bearers for the United States were LeBron James and Coco Gauff. \n",
    "James, a two-time Olympic gold medalist, is the first male basketball player to be chosen.[1][2] \n",
    "At 20 years of age, Gauff is the youngest American athlete and the first tennis player to be so honored.[3][4]\n",
    "The closing ceremony flag-bearers were Nick Mead and Katie Ledecky. \n",
    "Mead was part of the U.S. men's four rowing team that won their first gold medal since 1960, while Ledecky,\n",
    "a nine-time Olympic gold medalist, became the most decorated female Olympian to be chosen.[5] \n",
    "The United States competed in all sports except handball and was represented by more female than male athletes for the \n",
    "fourth consecutive time in the Summer Olympics (278 men and 314 women).[6] \n",
    "The team topped the medal rankings for the fourth consecutive and 19th overall time, with a total of 40 gold, 44 silver, \n",
    "and 42 bronze medals.[7] Tied with China on golds (40), the U.S. placed first in the overall medal tally via a\n",
    "tiebreaker (44–27 in silver). The occasion marked the first time in Summer Olympic history that two countries\n",
    "finished with an equal number of gold medals at the top.[8] Additionally, the Americans won 126 medals overall\n",
    "compared to China's 91.[9][10]\n",
    "\n",
    "How many medals did USA win in the most recent Olympics?\n",
    "\"\"\")"
   ]
  },
  {
   "cell_type": "code",
   "execution_count": null,
   "id": "9056c60d-5af3-4b8e-829a-073a0e93a60d",
   "metadata": {},
   "outputs": [],
   "source": []
  },
  {
   "cell_type": "code",
   "execution_count": null,
   "id": "9be32554-843c-4d51-acc9-c0cac6cc709f",
   "metadata": {},
   "outputs": [],
   "source": []
  },
  {
   "cell_type": "markdown",
   "id": "11e213ff-72c2-4faf-ac87-3795c545fa2b",
   "metadata": {},
   "source": [
    "### Searching internet and sending top k (=3) elements to generation"
   ]
  },
  {
   "cell_type": "code",
   "execution_count": null,
   "id": "1f2cdec0-69a0-4335-815b-f7f94a757599",
   "metadata": {},
   "outputs": [],
   "source": [
    "import requests"
   ]
  },
  {
   "cell_type": "code",
   "execution_count": null,
   "id": "bcb2aaa2-63e9-416d-8158-01687cda6c67",
   "metadata": {},
   "outputs": [],
   "source": [
    "import requests\n",
    "import json\n",
    "import os\n",
    "\n",
    "url = \"https://api.tavily.com/search\"\n",
    "\n",
    "payload = json.dumps({\n",
    "  \"query\": \"How many medails did USA won in 2024 Olympics\",\n",
    "  \"api_key\": os.getenv(\"TAVILY_API_KEY\"),\n",
    "  \"search_depth\": \"basic\",\n",
    "  \"topic\": \"general\",\n",
    "  \"include_answer\": False,\n",
    "  \"include_raw_content\": False,\n",
    "  \"include_images\": False,\n",
    "  \"include_image_descriptions\": False,\n",
    "  \"include_domains\": [],\n",
    "  \"max_results\": 3\n",
    "})\n",
    "\n",
    "response = requests.request(\"POST\", url, data=payload)\n",
    "\n",
    "top_results = response.json()[\"results\"]\n",
    "print(top_results)\n",
    "context = str.join(\"\\n\\n\", [result['content'] for result in top_results])\n",
    "\n",
    "\n",
    "\n",
    "llm.invoke(f\"\"\"\n",
    "{context}\n",
    "\n",
    "How many medals did USA win in the most recent Olympics?\n",
    "\"\"\")"
   ]
  },
  {
   "cell_type": "code",
   "execution_count": null,
   "id": "3802573f-b9ee-4b78-a3b8-598672187cb6",
   "metadata": {},
   "outputs": [],
   "source": []
  },
  {
   "cell_type": "code",
   "execution_count": null,
   "id": "a7c61c59-beda-4f6c-8bf2-9c30040b4450",
   "metadata": {},
   "outputs": [],
   "source": []
  },
  {
   "cell_type": "markdown",
   "id": "b5b80c54-0f71-4883-b988-8c06de74a6b5",
   "metadata": {},
   "source": [
    "### Vector Embedding"
   ]
  },
  {
   "cell_type": "code",
   "execution_count": null,
   "id": "674ae104-a009-44b3-b96b-5b8563861db4",
   "metadata": {},
   "outputs": [],
   "source": [
    "from langchain_community.document_loaders import YoutubeLoader"
   ]
  },
  {
   "cell_type": "code",
   "execution_count": null,
   "id": "34ab9d46-5e22-4efd-8778-d74d7b8acafd",
   "metadata": {},
   "outputs": [],
   "source": [
    "from langchain_community.document_loaders.youtube import TranscriptFormat\n",
    "\n",
    "loader = YoutubeLoader.from_youtube_url(\n",
    "    \"https://www.youtube.com/watch?v=T-D1OfcDW1M\",\n",
    "    add_video_info=True,\n",
    "    transcript_format=TranscriptFormat.CHUNKS,\n",
    "    chunk_size_seconds=30,\n",
    ")\n"
   ]
  },
  {
   "cell_type": "code",
   "execution_count": null,
   "id": "99a5aea6-9865-43d3-86a4-94f4a193ff21",
   "metadata": {},
   "outputs": [],
   "source": [
    "documents = loader.load()"
   ]
  },
  {
   "cell_type": "code",
   "execution_count": null,
   "id": "db69efda-cbe6-4ccc-ab8b-75405ef88da1",
   "metadata": {},
   "outputs": [],
   "source": []
  },
  {
   "cell_type": "code",
   "execution_count": null,
   "id": "06c80074-2d82-4aff-96b6-262f58156491",
   "metadata": {},
   "outputs": [],
   "source": [
    "articles = [{'title': 'USA Olympic medal count 2024 - Sporting News', 'url': 'https://www.sportingnews.com/us/olympics/news/usa-best-olympic-medal-count-2024-paris-games-final-most-medals-all-time/0809c8a9c89cd4133bb0b281', 'content': 'The nation has reached at least 100 medals at an Olympics just 12 times, and at least 120 medals just four times. Yet the 2024 total is not the most medals Team USA has ever won.', 'score': 0.9728308, 'raw_content': None}, {'title': 'Olympic Games Paris 2024: All U.S. medal winners - full list', 'url': 'https://olympics.com/en/news/olympic-games-paris-2024-all-u-s-medal-winners-full-list', 'content': 'The United States arrived in the French capital with a contingent of nearly 600 athletes for the Olympic Games Paris 2024 from 26 July to 11 August.. Team USA came into the Games looking to exceed their haul from Tokyo 2020 in 2021 where it won 39 gold, 41 silver, and 33 bronze medals for a total of 113 medals. The North Americans have broken through the 100-medal mark at every Olympic Games ...', 'score': 0.95159405, 'raw_content': None}, {'title': 'Medal Count - Paris 2024 Olympic Medal Table', 'url': 'https://olympics.com/en/paris-2024/medals', 'content': \"Official medal standings for the Paris 2024 Olympics (Jul 26-Aug 11, 2024). ... Site Language. En. Log in or Sign up. Back. Back. Medal Table. Medal Table Medallists # NOCs. G. S. B. USA United States of America. 40 44 42 126. CHN People's Republic of China. 40 27 24 91. JPN Japan. 20 12 13 45. AUS ... Does not include medals won by AIN. Timing ...\", 'score': 0.92549974, 'raw_content': None}]"
   ]
  },
  {
   "cell_type": "code",
   "execution_count": null,
   "id": "78e7e6e3-0579-42bd-8d9c-44eebe53b478",
   "metadata": {},
   "outputs": [],
   "source": [
    "article_embeddings = []"
   ]
  },
  {
   "cell_type": "code",
   "execution_count": null,
   "id": "8c282f6a-9217-4efc-869d-31e38ee96491",
   "metadata": {},
   "outputs": [],
   "source": [
    "from langchain_openai import AzureOpenAIEmbeddings"
   ]
  },
  {
   "cell_type": "code",
   "execution_count": null,
   "id": "3332028e-b7a7-4770-b8fa-cf5a17ea4898",
   "metadata": {},
   "outputs": [],
   "source": [
    "embedding_model = AzureOpenAIEmbeddings(model=\"text-embedding-ada-002-01\",\n",
    "                                 api_version=\"2023-05-15\")"
   ]
  },
  {
   "cell_type": "code",
   "execution_count": null,
   "id": "bc0b3785-66cd-4a16-b849-86fdcb6df284",
   "metadata": {},
   "outputs": [],
   "source": [
    "for article in articles:\n",
    "    embeddings = embedding_model.embed_query(article['content'])\n",
    "    article_embeddings.append(embeddings)"
   ]
  },
  {
   "cell_type": "code",
   "execution_count": null,
   "id": "5cdddfca-d6a1-4863-ac5c-544b4ab8bf66",
   "metadata": {},
   "outputs": [],
   "source": []
  },
  {
   "cell_type": "code",
   "execution_count": null,
   "id": "be0a4be4-78a6-4c89-a846-da421b1cb4fe",
   "metadata": {},
   "outputs": [],
   "source": [
    "from langchain_openai import AzureOpenAIEmbeddings\n",
    "\n",
    "articles = [{'title': 'USA Olympic medal count 2024 - Sporting News', 'url': 'https://www.sportingnews.com/us/olympics/news/usa-best-olympic-medal-count-2024-paris-games-final-most-medals-all-time/0809c8a9c89cd4133bb0b281', 'content': 'The nation has reached at least 100 medals at an Olympics just 12 times, and at least 120 medals just four times. Yet the 2024 total is not the most medals Team USA has ever won.', 'score': 0.9728308, 'raw_content': None}, {'title': 'Olympic Games Paris 2024: All U.S. medal winners - full list', 'url': 'https://olympics.com/en/news/olympic-games-paris-2024-all-u-s-medal-winners-full-list', 'content': 'The United States arrived in the French capital with a contingent of nearly 600 athletes for the Olympic Games Paris 2024 from 26 July to 11 August.. Team USA came into the Games looking to exceed their haul from Tokyo 2020 in 2021 where it won 39 gold, 41 silver, and 33 bronze medals for a total of 113 medals. The North Americans have broken through the 100-medal mark at every Olympic Games ...', 'score': 0.95159405, 'raw_content': None}, {'title': 'Medal Count - Paris 2024 Olympic Medal Table', 'url': 'https://olympics.com/en/paris-2024/medals', 'content': \"Official medal standings for the Paris 2024 Olympics (Jul 26-Aug 11, 2024). ... Site Language. En. Log in or Sign up. Back. Back. Medal Table. Medal Table Medallists # NOCs. G. S. B. USA United States of America. 40 44 42 126. CHN People's Republic of China. 40 27 24 91. JPN Japan. 20 12 13 45. AUS ... Does not include medals won by AIN. Timing ...\", 'score': 0.92549974, 'raw_content': None}]\n",
    "\n",
    "article_embeddings = []\n",
    "\n",
    "embedding_model = AzureOpenAIEmbeddings(model=\"text-embedding-ada-002-01\",\n",
    "                                 api_version=\"2023-05-15\")\n",
    "\n",
    "for article in articles:\n",
    "    embeddings = embedding_model.embed_query(article['content'])\n",
    "    article_embeddings.append(embeddings)"
   ]
  },
  {
   "cell_type": "code",
   "execution_count": null,
   "id": "d1e817da-17bc-41d3-8db6-86fd0f607893",
   "metadata": {},
   "outputs": [],
   "source": [
    "import numpy as np"
   ]
  },
  {
   "cell_type": "code",
   "execution_count": null,
   "id": "06feff00-2597-4634-97e8-7e5c7829dd9d",
   "metadata": {},
   "outputs": [],
   "source": [
    "# Define a function to calculate cosine similarity between two vectors\n",
    "def cosine_similarity(vec1, vec2):\n",
    "    # Ensure both vectors are numpy arrays\n",
    "    vec1 = np.array(vec1)\n",
    "    vec2 = np.array(vec2)\n",
    "    # Compute cosine similarity\n",
    "    cos_sim = np.dot(vec1, vec2) / (np.linalg.norm(vec1) * np.linalg.norm(vec2))\n",
    "    return cos_sim\n",
    "\n",
    "query = \"Olympic medal count for USA in 2024\"\n",
    "query_embedding = embedding_model.embed_query(query)\n",
    "\n",
    "similarities = []\n",
    "for article, article_embedding in zip(articles, article_embeddings):\n",
    "    similarity = cosine_similarity(query_embedding, article_embedding)\n",
    "    similarities.append({\n",
    "        'title': article['title'],\n",
    "        'url': article['url'],\n",
    "        'similarity': similarity\n",
    "    })\n",
    "\n"
   ]
  },
  {
   "cell_type": "code",
   "execution_count": null,
   "id": "e959434c-245a-493a-bbe9-71abe52773b6",
   "metadata": {},
   "outputs": [],
   "source": [
    "# Print the similarities\n",
    "for result in similarities:\n",
    "    print(f\"Title: {result['title']}, Similarity: {result['similarity']:.4f}, URL: {result['url']}\")"
   ]
  },
  {
   "cell_type": "code",
   "execution_count": null,
   "id": "24218e8b-3616-4857-8c79-e34d78a60d92",
   "metadata": {},
   "outputs": [],
   "source": []
  }
 ],
 "metadata": {
  "kernelspec": {
   "display_name": "Python 3 (ipykernel)",
   "language": "python",
   "name": "python3"
  },
  "language_info": {
   "codemirror_mode": {
    "name": "ipython",
    "version": 3
   },
   "file_extension": ".py",
   "mimetype": "text/x-python",
   "name": "python",
   "nbconvert_exporter": "python",
   "pygments_lexer": "ipython3",
   "version": "3.12.6"
  }
 },
 "nbformat": 4,
 "nbformat_minor": 5
}
