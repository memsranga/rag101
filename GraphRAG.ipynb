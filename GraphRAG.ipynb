{
 "cells": [
  {
   "cell_type": "code",
   "execution_count": null,
   "id": "0f5da953-90c5-4f7d-a102-0cbc252f671a",
   "metadata": {},
   "outputs": [],
   "source": [
    "!pip install graphrag"
   ]
  },
  {
   "cell_type": "code",
   "execution_count": null,
   "id": "9dd96ded-a129-4c92-8990-24cc86295bd5",
   "metadata": {},
   "outputs": [],
   "source": [
    "import requests\n",
    "import os"
   ]
  },
  {
   "cell_type": "code",
   "execution_count": null,
   "id": "52cf3f80-76bb-4d84-9539-277ebe9a2563",
   "metadata": {},
   "outputs": [],
   "source": [
    "book_path = \"graphrag/input/book.txt\""
   ]
  },
  {
   "cell_type": "code",
   "execution_count": null,
   "id": "53522905-7507-4c56-bd4b-e3e599272856",
   "metadata": {},
   "outputs": [],
   "source": [
    "response = requests.get(\"https://www.gutenberg.org/cache/epub/2852/pg2852.txt\")\n",
    "\n",
    "if response.status_code == 200:\n",
    "    if not os.path.isdir(\"graphrag/input\"):\n",
    "        os.mkdir(\"graphrag/input\")\n",
    "    with open(book_path, \"wb\") as file:\n",
    "        file.write(response.content)\n",
    "    print(\"File saved succesfully\")\n",
    "else:\n",
    "    print(\"Failes to fetch the file\")"
   ]
  },
  {
   "cell_type": "code",
   "execution_count": null,
   "id": "1fb2f8ad-8a7e-45d3-9a6e-825b5cbf1d41",
   "metadata": {},
   "outputs": [],
   "source": []
  },
  {
   "cell_type": "code",
   "execution_count": null,
   "id": "c2286c8b-8ad7-48af-a93b-aebb269f838d",
   "metadata": {},
   "outputs": [],
   "source": [
    "from dotenv import find_dotenv, load_dotenv"
   ]
  },
  {
   "cell_type": "code",
   "execution_count": null,
   "id": "76f12a67-a623-4d97-9498-1b353c4b8c26",
   "metadata": {},
   "outputs": [],
   "source": [
    "load_dotenv(find_dotenv())"
   ]
  },
  {
   "cell_type": "markdown",
   "id": "5d1fb121-b99d-4b92-87f2-9895d3d8a5ee",
   "metadata": {},
   "source": [
    "### Setting up baseline RAG"
   ]
  },
  {
   "cell_type": "code",
   "execution_count": null,
   "id": "70955ced-5415-495b-9314-10d3b1ce125d",
   "metadata": {},
   "outputs": [],
   "source": [
    "from langchain_openai import AzureChatOpenAI\n",
    "\n",
    "llm = AzureChatOpenAI(\n",
    "    azure_endpoint=os.getenv(\"AZURE_OPENAI_ENDPOINT\"),\n",
    "    azure_deployment=os.getenv(\"AZURE_OPENAI_DEPLOYMENT_NAME\"),\n",
    "    openai_api_version=os.getenv(\"AZURE_OPENAI_API_VERSION\"),\n",
    ")"
   ]
  },
  {
   "cell_type": "code",
   "execution_count": null,
   "id": "c6383333-52ea-4aeb-87a4-d5b113be6829",
   "metadata": {},
   "outputs": [],
   "source": [
    "llm.invoke(\"Hi\")"
   ]
  },
  {
   "cell_type": "code",
   "execution_count": null,
   "id": "be5e8fd5-e797-4166-930e-1dd7bf4fad82",
   "metadata": {},
   "outputs": [],
   "source": []
  },
  {
   "cell_type": "code",
   "execution_count": null,
   "id": "76d5fc71-6b2a-4e1b-bbf7-e90dd3c2f9a8",
   "metadata": {},
   "outputs": [],
   "source": [
    "from langchain_openai import AzureOpenAIEmbeddings\n",
    "\n",
    "embeddings = AzureOpenAIEmbeddings(\n",
    "    azure_endpoint=os.getenv(\"AZURE_OPENAI_ENDPOINT\"),\n",
    "    azure_deployment=os.getenv(\"AZURE_OPENAI_EMBEDDING_DEPLOYMENT_NAME\"),\n",
    "    openai_api_version=os.getenv(\"AZURE_OPENAI_EMBEDDING_API_VERSION\"),\n",
    ")"
   ]
  },
  {
   "cell_type": "code",
   "execution_count": null,
   "id": "68c723ac-b05e-4b3a-8f44-90da6000f399",
   "metadata": {},
   "outputs": [],
   "source": []
  },
  {
   "cell_type": "code",
   "execution_count": null,
   "id": "8186580c-c969-4996-b5e7-c2723323b12a",
   "metadata": {},
   "outputs": [],
   "source": []
  },
  {
   "cell_type": "code",
   "execution_count": null,
   "id": "b23f73de-972d-447b-8e99-3296d1853a6d",
   "metadata": {},
   "outputs": [],
   "source": [
    "from langchain_community.vectorstores.azuresearch import AzureSearch\n",
    "\n",
    "vector_store = AzureSearch(\n",
    "    index_name=\"hound-of-baskervilles\",\n",
    "    embedding_function=embeddings.embed_query,\n",
    "    azure_search_endpoint=os.getenv(\"AZURE_SEARCH_ENDPOINT\"),\n",
    "    azure_search_key=os.getenv(\"AZURE_SEARCH_KEY\"),\n",
    ")"
   ]
  },
  {
   "cell_type": "code",
   "execution_count": null,
   "id": "23db73b0-2ddd-482e-8093-6d0e03050d8a",
   "metadata": {},
   "outputs": [],
   "source": []
  },
  {
   "cell_type": "code",
   "execution_count": null,
   "id": "0aa9f101-0f78-4f37-85df-4fba0e2ae203",
   "metadata": {},
   "outputs": [],
   "source": []
  },
  {
   "cell_type": "code",
   "execution_count": null,
   "id": "580b7f8f-c7b3-4c85-973b-a6145e3e4027",
   "metadata": {},
   "outputs": [],
   "source": [
    "from langchain_community.document_loaders import TextLoader\n",
    "from langchain_text_splitters import CharacterTextSplitter\n",
    "\n",
    "loader = TextLoader(book_path, encoding=\"utf-8\")\n",
    "\n",
    "documents = loader.load()\n",
    "text_splitter = CharacterTextSplitter(chunk_size=1200, chunk_overlap=100)\n",
    "docs = text_splitter.split_documents(documents)\n",
    "\n",
    "vector_store.add_documents(documents=docs)\n",
    "\n"
   ]
  },
  {
   "cell_type": "code",
   "execution_count": null,
   "id": "6d50de8d-8cf4-43fc-911b-111d62a11c94",
   "metadata": {},
   "outputs": [],
   "source": []
  },
  {
   "cell_type": "code",
   "execution_count": null,
   "id": "9731ba2c-3aec-4437-bfee-8a92eef5a2a6",
   "metadata": {},
   "outputs": [],
   "source": [
    "def retrieve(query):\n",
    "    docs = vector_store.hybrid_search(query=query, k=3)\n",
    "    context = \"\\n\\n\".join(doc.page_content for doc in docs)\n",
    "    print(context)\n",
    "    return context"
   ]
  },
  {
   "cell_type": "code",
   "execution_count": null,
   "id": "0bb561d1-6672-417b-b8f9-33a09056c7ce",
   "metadata": {},
   "outputs": [],
   "source": []
  },
  {
   "cell_type": "code",
   "execution_count": null,
   "id": "e9fba780-8d10-4ad7-924e-96e34c150a67",
   "metadata": {},
   "outputs": [],
   "source": [
    "from langchain_core.prompts import ChatPromptTemplate\n",
    "\n",
    "rag_prompt = ChatPromptTemplate.from_messages([\n",
    "  (\"human\", \"\"\"\n",
    "You are an assistant for question-answering tasks.\n",
    "Only use the following pieces of context to answer the question.\n",
    "If you don't know the answer or the answer cant be dereived from the given context, just say that you don't know.\n",
    "Use three sentences maximum and keep the answer concise.\n",
    "Question: {question} \n",
    "Context: {context} \n",
    "Answer:\"\"\"),\n",
    "])"
   ]
  },
  {
   "cell_type": "code",
   "execution_count": null,
   "id": "1708ab48-2224-4c59-a487-9265fc87539a",
   "metadata": {},
   "outputs": [],
   "source": [
    "def get_response(query):\n",
    "    messages = rag_prompt.invoke({\"context\": retrieve(query), \"question\": query})\n",
    "    response = llm.invoke(messages)\n",
    "    return response.content"
   ]
  },
  {
   "cell_type": "code",
   "execution_count": null,
   "id": "91b8cb3b-9cf7-43e8-8272-8a5a07b160d6",
   "metadata": {},
   "outputs": [],
   "source": [
    "get_response(\"Who is Sir Henry Baskerville?\")"
   ]
  },
  {
   "cell_type": "code",
   "execution_count": null,
   "id": "985ebc41-fb0e-4beb-80be-783517a7c6d5",
   "metadata": {},
   "outputs": [],
   "source": [
    "get_response(\"Who killed Charles?\")"
   ]
  },
  {
   "cell_type": "code",
   "execution_count": null,
   "id": "75d3e367-8dca-40d9-80b9-111437b92dd7",
   "metadata": {},
   "outputs": [],
   "source": [
    "get_response(\"Why did Stapleton kill Charles?\")"
   ]
  },
  {
   "cell_type": "code",
   "execution_count": null,
   "id": "711350ae-6e79-474c-9a06-f7d03f442c82",
   "metadata": {},
   "outputs": [],
   "source": [
    "get_response(\"What is the main theme of the book?\")"
   ]
  },
  {
   "cell_type": "code",
   "execution_count": null,
   "id": "4b757ef5-1908-4a5f-a07c-864eaa6e2647",
   "metadata": {},
   "outputs": [],
   "source": []
  },
  {
   "cell_type": "code",
   "execution_count": null,
   "id": "443e59bd-5ffa-4abc-b6a7-7b81f75ddb5a",
   "metadata": {},
   "outputs": [],
   "source": []
  },
  {
   "cell_type": "markdown",
   "id": "e99ffc3c-a0c9-4961-9277-1963df535c73",
   "metadata": {},
   "source": [
    "### Extracting Knowledge Graph using LLMs"
   ]
  },
  {
   "cell_type": "code",
   "execution_count": null,
   "id": "b584e63c-62b0-46ff-87ac-d517364c4f17",
   "metadata": {},
   "outputs": [],
   "source": [
    "entity_extraction_prompt=\"\"\"\n",
    "Given a document identify all entities from the text.\n",
    "Entity types can be one of : Name, Place, Organization or Event\n",
    "Document: {text}\"\"\""
   ]
  },
  {
   "cell_type": "code",
   "execution_count": null,
   "id": "5eac4ccb-589a-4aff-b037-1214b38bd09e",
   "metadata": {},
   "outputs": [],
   "source": [
    "graphrag_entity_extraction_prompt=\"\"\"\n",
    "\n",
    "-Goal-\n",
    "Given a text document that is potentially relevant to this activity and a list of entity types, identify all entities of those types from the text and all relationships among the identified entities.\n",
    " \n",
    "-Steps-\n",
    "1. Identify all entities. For each identified entity, extract the following information:\n",
    "- entity_name: Name of the entity, capitalized\n",
    "- entity_type: One of the following types: [{entity_types}]\n",
    "- entity_description: Comprehensive description of the entity's attributes and activities\n",
    "Format each entity as (\"entity\"{tuple_delimiter}<entity_name>{tuple_delimiter}<entity_type>{tuple_delimiter}<entity_description>)\n",
    " \n",
    "2. From the entities identified in step 1, identify all pairs of (source_entity, target_entity) that are *clearly related* to each other.\n",
    "For each pair of related entities, extract the following information:\n",
    "- source_entity: name of the source entity, as identified in step 1\n",
    "- target_entity: name of the target entity, as identified in step 1\n",
    "- relationship_description: explanation as to why you think the source entity and the target entity are related to each other\n",
    "- relationship_strength: a numeric score indicating strength of the relationship between the source entity and target entity\n",
    " Format each relationship as (\"relationship\"{tuple_delimiter}<source_entity>{tuple_delimiter}<target_entity>{tuple_delimiter}<relationship_description>{tuple_delimiter}<relationship_strength>)\n",
    " \n",
    "3. Return output in English as a single list of all the entities and relationships identified in steps 1 and 2. Use **{record_delimiter}** as the list delimiter.\n",
    " \n",
    "4. When finished, output {completion_delimiter}\n",
    " \n",
    "######################\n",
    "-Examples-\n",
    "######################\n",
    "Example 1:\n",
    "Entity_types: ORGANIZATION,PERSON\n",
    "Text:\n",
    "The Verdantis's Central Institution is scheduled to meet on Monday and Thursday, with the institution planning to release its latest policy decision on Thursday at 1:30 p.m. PDT, followed by a press conference where Central Institution Chair Martin Smith will take questions. Investors expect the Market Strategy Committee to hold its benchmark interest rate steady in a range of 3.5%-3.75%.\n",
    "######################\n",
    "Output:\n",
    "(\"entity\"{tuple_delimiter}CENTRAL INSTITUTION{tuple_delimiter}ORGANIZATION{tuple_delimiter}The Central Institution is the Federal Reserve of Verdantis, which is setting interest rates on Monday and Thursday)\n",
    "{record_delimiter}\n",
    "(\"entity\"{tuple_delimiter}MARTIN SMITH{tuple_delimiter}PERSON{tuple_delimiter}Martin Smith is the chair of the Central Institution)\n",
    "{record_delimiter}\n",
    "(\"entity\"{tuple_delimiter}MARKET STRATEGY COMMITTEE{tuple_delimiter}ORGANIZATION{tuple_delimiter}The Central Institution committee makes key decisions about interest rates and the growth of Verdantis's money supply)\n",
    "{record_delimiter}\n",
    "(\"relationship\"{tuple_delimiter}MARTIN SMITH{tuple_delimiter}CENTRAL INSTITUTION{tuple_delimiter}Martin Smith is the Chair of the Central Institution and will answer questions at a press conference{tuple_delimiter}9)\n",
    "{completion_delimiter}\n",
    "\n",
    "######################\n",
    "Example 2:\n",
    "Entity_types: ORGANIZATION\n",
    "Text:\n",
    "TechGlobal's (TG) stock skyrocketed in its opening day on the Global Exchange Thursday. But IPO experts warn that the semiconductor corporation's debut on the public markets isn't indicative of how other newly listed companies may perform.\n",
    "\n",
    "TechGlobal, a formerly public company, was taken private by Vision Holdings in 2014. The well-established chip designer says it powers 85% of premium smartphones.\n",
    "######################\n",
    "Output:\n",
    "(\"entity\"{tuple_delimiter}TECHGLOBAL{tuple_delimiter}ORGANIZATION{tuple_delimiter}TechGlobal is a stock now listed on the Global Exchange which powers 85% of premium smartphones)\n",
    "{record_delimiter}\n",
    "(\"entity\"{tuple_delimiter}VISION HOLDINGS{tuple_delimiter}ORGANIZATION{tuple_delimiter}Vision Holdings is a firm that previously owned TechGlobal)\n",
    "{record_delimiter}\n",
    "(\"relationship\"{tuple_delimiter}TECHGLOBAL{tuple_delimiter}VISION HOLDINGS{tuple_delimiter}Vision Holdings formerly owned TechGlobal from 2014 until present{tuple_delimiter}5)\n",
    "{completion_delimiter}\n",
    "\n",
    "######################\n",
    "Example 3:\n",
    "Entity_types: ORGANIZATION,GEO,PERSON\n",
    "Text:\n",
    "Five Aurelians jailed for 8 years in Firuzabad and widely regarded as hostages are on their way home to Aurelia.\n",
    "\n",
    "The swap orchestrated by Quintara was finalized when $8bn of Firuzi funds were transferred to financial institutions in Krohaara, the capital of Quintara.\n",
    "\n",
    "The exchange initiated in Firuzabad's capital, Tiruzia, led to the four men and one woman, who are also Firuzi nationals, boarding a chartered flight to Krohaara.\n",
    "\n",
    "They were welcomed by senior Aurelian officials and are now on their way to Aurelia's capital, Cashion.\n",
    "\n",
    "The Aurelians include 39-year-old businessman Samuel Namara, who has been held in Tiruzia's Alhamia Prison, as well as journalist Durke Bataglani, 59, and environmentalist Meggie Tazbah, 53, who also holds Bratinas nationality.\n",
    "######################\n",
    "Output:\n",
    "(\"entity\"{tuple_delimiter}FIRUZABAD{tuple_delimiter}GEO{tuple_delimiter}Firuzabad held Aurelians as hostages)\n",
    "{record_delimiter}\n",
    "(\"entity\"{tuple_delimiter}AURELIA{tuple_delimiter}GEO{tuple_delimiter}Country seeking to release hostages)\n",
    "{record_delimiter}\n",
    "(\"entity\"{tuple_delimiter}QUINTARA{tuple_delimiter}GEO{tuple_delimiter}Country that negotiated a swap of money in exchange for hostages)\n",
    "{record_delimiter}\n",
    "{record_delimiter}\n",
    "(\"entity\"{tuple_delimiter}TIRUZIA{tuple_delimiter}GEO{tuple_delimiter}Capital of Firuzabad where the Aurelians were being held)\n",
    "{record_delimiter}\n",
    "(\"entity\"{tuple_delimiter}KROHAARA{tuple_delimiter}GEO{tuple_delimiter}Capital city in Quintara)\n",
    "{record_delimiter}\n",
    "(\"entity\"{tuple_delimiter}CASHION{tuple_delimiter}GEO{tuple_delimiter}Capital city in Aurelia)\n",
    "{record_delimiter}\n",
    "(\"entity\"{tuple_delimiter}SAMUEL NAMARA{tuple_delimiter}PERSON{tuple_delimiter}Aurelian who spent time in Tiruzia's Alhamia Prison)\n",
    "{record_delimiter}\n",
    "(\"entity\"{tuple_delimiter}ALHAMIA PRISON{tuple_delimiter}GEO{tuple_delimiter}Prison in Tiruzia)\n",
    "{record_delimiter}\n",
    "(\"entity\"{tuple_delimiter}DURKE BATAGLANI{tuple_delimiter}PERSON{tuple_delimiter}Aurelian journalist who was held hostage)\n",
    "{record_delimiter}\n",
    "(\"entity\"{tuple_delimiter}MEGGIE TAZBAH{tuple_delimiter}PERSON{tuple_delimiter}Bratinas national and environmentalist who was held hostage)\n",
    "{record_delimiter}\n",
    "(\"relationship\"{tuple_delimiter}FIRUZABAD{tuple_delimiter}AURELIA{tuple_delimiter}Firuzabad negotiated a hostage exchange with Aurelia{tuple_delimiter}2)\n",
    "{record_delimiter}\n",
    "(\"relationship\"{tuple_delimiter}QUINTARA{tuple_delimiter}AURELIA{tuple_delimiter}Quintara brokered the hostage exchange between Firuzabad and Aurelia{tuple_delimiter}2)\n",
    "{record_delimiter}\n",
    "(\"relationship\"{tuple_delimiter}QUINTARA{tuple_delimiter}FIRUZABAD{tuple_delimiter}Quintara brokered the hostage exchange between Firuzabad and Aurelia{tuple_delimiter}2)\n",
    "{record_delimiter}\n",
    "(\"relationship\"{tuple_delimiter}SAMUEL NAMARA{tuple_delimiter}ALHAMIA PRISON{tuple_delimiter}Samuel Namara was a prisoner at Alhamia prison{tuple_delimiter}8)\n",
    "{record_delimiter}\n",
    "(\"relationship\"{tuple_delimiter}SAMUEL NAMARA{tuple_delimiter}MEGGIE TAZBAH{tuple_delimiter}Samuel Namara and Meggie Tazbah were exchanged in the same hostage release{tuple_delimiter}2)\n",
    "{record_delimiter}\n",
    "(\"relationship\"{tuple_delimiter}SAMUEL NAMARA{tuple_delimiter}DURKE BATAGLANI{tuple_delimiter}Samuel Namara and Durke Bataglani were exchanged in the same hostage release{tuple_delimiter}2)\n",
    "{record_delimiter}\n",
    "(\"relationship\"{tuple_delimiter}MEGGIE TAZBAH{tuple_delimiter}DURKE BATAGLANI{tuple_delimiter}Meggie Tazbah and Durke Bataglani were exchanged in the same hostage release{tuple_delimiter}2)\n",
    "{record_delimiter}\n",
    "(\"relationship\"{tuple_delimiter}SAMUEL NAMARA{tuple_delimiter}FIRUZABAD{tuple_delimiter}Samuel Namara was a hostage in Firuzabad{tuple_delimiter}2)\n",
    "{record_delimiter}\n",
    "(\"relationship\"{tuple_delimiter}MEGGIE TAZBAH{tuple_delimiter}FIRUZABAD{tuple_delimiter}Meggie Tazbah was a hostage in Firuzabad{tuple_delimiter}2)\n",
    "{record_delimiter}\n",
    "(\"relationship\"{tuple_delimiter}DURKE BATAGLANI{tuple_delimiter}FIRUZABAD{tuple_delimiter}Durke Bataglani was a hostage in Firuzabad{tuple_delimiter}2)\n",
    "{completion_delimiter}\n",
    "\n",
    "######################\n",
    "-Real Data-\n",
    "######################\n",
    "Entity_types: {entity_types}\n",
    "Text: {input_text}\n",
    "######################\n",
    "Output:\n",
    "\"\"\""
   ]
  },
  {
   "cell_type": "code",
   "execution_count": null,
   "id": "2c83e573-d4e4-45f3-ac3b-68f4f66b6de8",
   "metadata": {},
   "outputs": [],
   "source": [
    "def extract_entites(text):\n",
    "    prompt = ChatPromptTemplate.from_messages([graphrag_entity_extraction_prompt])\n",
    "    messages = prompt.invoke({\n",
    "        \"input_text\": text,\n",
    "        \"tuple_delimiter\": \"<|>\",\n",
    "        \"entity_types\": \"[organization,person,geo,event]\",\n",
    "        \"record_delimiter\": \"##\",\n",
    "        \"completion_delimiter\": \"|COMPLETE|\"})\n",
    "    response = llm.invoke(messages)\n",
    "    return response.content"
   ]
  },
  {
   "cell_type": "code",
   "execution_count": null,
   "id": "eab343ea-ada2-4f92-b8e7-7c46d1a4bfbe",
   "metadata": {},
   "outputs": [],
   "source": [
    "response = requests.get(\"https://www.gutenberg.org/cache/epub/2852/pg2852.txt\")\n",
    "text = response.content"
   ]
  },
  {
   "cell_type": "code",
   "execution_count": null,
   "id": "d9c9cce1-1da2-40b3-8917-1fdd8788e6e1",
   "metadata": {},
   "outputs": [],
   "source": [
    "text[:20000]"
   ]
  },
  {
   "cell_type": "code",
   "execution_count": null,
   "id": "a0f447f9-b8db-4411-8787-b1231a9543f3",
   "metadata": {},
   "outputs": [],
   "source": [
    "extract_entites(text[:20000])"
   ]
  },
  {
   "cell_type": "code",
   "execution_count": null,
   "id": "f9f40ee6-59cb-49ac-b841-ee7cd04e7213",
   "metadata": {},
   "outputs": [],
   "source": [
    "\n",
    "entities = extract_entites(\"\"\"\n",
    "Mr. Sherlock Holmes, who was usually very late in the mornings,\n",
    "      save upon those not infrequent occasions when he was up all\n",
    "      night, was seated at the breakfast table. I stood upon the\n",
    "      hearth-rug and picked up the stick which our visitor had left\n",
    "      behind him the night before. It was a fine, thick piece of wood,\n",
    "      bulbous-headed, of the sort which is known as a “Penang lawyer.”\n",
    "      Just under the head was a broad silver band nearly an inch\n",
    "      across. “To James Mortimer, M.R.C.S., from his friends of the\n",
    "      C.C.H.,” was engraved upon it, with the date “1884.” It was just\n",
    "      such a stick as the old-fashioned family practitioner used to\n",
    "      carry—dignified, solid, and reassuring.\n",
    "\"\"\")"
   ]
  },
  {
   "cell_type": "code",
   "execution_count": null,
   "id": "ba6ae175-b642-446b-8d0d-d6ba76648b75",
   "metadata": {},
   "outputs": [],
   "source": [
    "entities"
   ]
  },
  {
   "cell_type": "code",
   "execution_count": null,
   "id": "a6914652-5c85-42aa-81d5-8bf724b1376c",
   "metadata": {},
   "outputs": [],
   "source": []
  },
  {
   "cell_type": "markdown",
   "id": "a641dae3-010a-481d-b934-823488dc6cca",
   "metadata": {},
   "source": [
    "### Setting up GraphRAG"
   ]
  },
  {
   "cell_type": "code",
   "execution_count": null,
   "id": "84189d3e-037a-4279-8560-6d91925c0f76",
   "metadata": {},
   "outputs": [],
   "source": [
    "!python -m graphrag index --root ./graphrag"
   ]
  },
  {
   "cell_type": "code",
   "execution_count": null,
   "id": "42f342db-5a72-4805-a610-9288a8015141",
   "metadata": {},
   "outputs": [],
   "source": [
    "!python -m graphrag query --method global --query \"Who is Sir Henry Baskerville?\"  --root ./graphrag"
   ]
  },
  {
   "cell_type": "code",
   "execution_count": null,
   "id": "37e0ab6b-45f5-4ede-9c77-bb774feb49bd",
   "metadata": {},
   "outputs": [],
   "source": [
    "!python -m graphrag query --method global --query \"Who killed Charles?\"  --root ./graphrag"
   ]
  },
  {
   "cell_type": "code",
   "execution_count": null,
   "id": "e315c7fc-1eb3-4bfc-b68a-c9cd165c03a9",
   "metadata": {},
   "outputs": [],
   "source": [
    "!python -m graphrag query --method global --query \"Why did Stapleton kill Charles?\"  --root ./graphrag"
   ]
  },
  {
   "cell_type": "code",
   "execution_count": null,
   "id": "cd4eca24-aeaf-4cab-888d-09b2d1b06772",
   "metadata": {},
   "outputs": [],
   "source": [
    "!python -m graphrag query --method global --query \"What is the main theme of the book?\"  --root ./graphrag"
   ]
  },
  {
   "cell_type": "code",
   "execution_count": null,
   "id": "bed6a5be-8f49-46ae-8489-806f15c56f69",
   "metadata": {},
   "outputs": [],
   "source": []
  },
  {
   "cell_type": "code",
   "execution_count": null,
   "id": "aed302a2-d14a-4de8-84fa-17d651276759",
   "metadata": {},
   "outputs": [],
   "source": [
    "aa"
   ]
  },
  {
   "cell_type": "code",
   "execution_count": null,
   "id": "fa6e6acc-7a0a-4926-bc1f-4a5302862e49",
   "metadata": {},
   "outputs": [],
   "source": []
  }
 ],
 "metadata": {
  "kernelspec": {
   "display_name": "Python 3 (ipykernel)",
   "language": "python",
   "name": "python3"
  },
  "language_info": {
   "codemirror_mode": {
    "name": "ipython",
    "version": 3
   },
   "file_extension": ".py",
   "mimetype": "text/x-python",
   "name": "python",
   "nbconvert_exporter": "python",
   "pygments_lexer": "ipython3",
   "version": "3.12.6"
  }
 },
 "nbformat": 4,
 "nbformat_minor": 5
}
